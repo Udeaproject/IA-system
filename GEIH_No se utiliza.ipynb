{
  "nbformat": 4,
  "nbformat_minor": 0,
  "metadata": {
    "colab": {
      "provenance": []
    },
    "kernelspec": {
      "name": "python3",
      "display_name": "Python 3"
    },
    "language_info": {
      "name": "python"
    }
  },
  "cells": [
    {
      "cell_type": "markdown",
      "source": [
        "#**Gran Encuesta Integrada de Hogares**\n",
        "\n",
        "**Miembros del grupo:**\n",
        "\n",
        "* Cristian Camilo Serna Betancur, CC 1018351871, Ingeniería de Sistemas\n",
        "* Diego Alonso Herrera Ramírez, CC 70908268, Ingeniería de Sistemas\n",
        "* Sharid Samantha Madrid Ospina, CC 1001652997, Ingeniería de Sistemas"
      ],
      "metadata": {
        "id": "kPxJPaeA_lXo"
      }
    },
    {
      "cell_type": "markdown",
      "source": [
        "Creamos una nueva base de datos, en la que solo estan las columnas que necesitamos."
      ],
      "metadata": {
        "id": "8SorLwBaPKxj"
      }
    },
    {
      "cell_type": "code",
      "execution_count": 32,
      "metadata": {
        "colab": {
          "base_uri": "https://localhost:8080/"
        },
        "id": "ygWpAEfF_iNi",
        "outputId": "37bab9b2-27bf-43a7-aea9-9f9a48ec9c71"
      },
      "outputs": [
        {
          "output_type": "stream",
          "name": "stderr",
          "text": [
            "<ipython-input-32-40e16539e6b2>:4: DtypeWarning: Columns (71,111,117,120,127,129,132,139,140,148,150,204,213,215,220,223,226,228,241,249,251,276,286,289,299,302,305,307,311,315,325,338,343) have mixed types. Specify dtype option on import or set low_memory=False.\n",
            "  data = pd.read_csv(\"/content/Gran_Encuesta_Integrada_de_Hogares.csv\", delimiter=\";\")\n"
          ]
        },
        {
          "output_type": "stream",
          "name": "stdout",
          "text": [
            "Index(['directorio', 'año', 'orden', 'hogar', 'secuencia_p', 'segmento',\n",
            "       'area', 'mes', 'dpto', 'mpio',\n",
            "       ...\n",
            "       'p750s2a1', 'p750s3', 'p750s3a1', 'p750s4', 'p7510s5', 'p7510s5a1',\n",
            "       'p7510s6', 'p7510s6a1', 'p7510s7', 'p7510s7a1'],\n",
            "      dtype='object', length=397)\n"
          ]
        }
      ],
      "source": [
        "import pandas as pd\n",
        "\n",
        "# Cargar el conjunto de datos original con el delimitador correcto\n",
        "data = pd.read_csv(\"/content/Gran_Encuesta_Integrada_de_Hogares.csv\", delimiter=\";\")\n",
        "\n",
        "print(data.columns)\n",
        "\n"
      ]
    },
    {
      "cell_type": "code",
      "source": [
        "# Realizar una exploración inicial del conjunto de datos\n",
        "print(\"Información del conjunto de datos:\")\n",
        "print(data.info())"
      ],
      "metadata": {
        "colab": {
          "base_uri": "https://localhost:8080/"
        },
        "id": "iQe-qeHlHrlx",
        "outputId": "aa5203b3-b001-4a51-fc2f-46d8065853e4"
      },
      "execution_count": 33,
      "outputs": [
        {
          "output_type": "stream",
          "name": "stdout",
          "text": [
            "Información del conjunto de datos:\n",
            "<class 'pandas.core.frame.DataFrame'>\n",
            "RangeIndex: 132188 entries, 0 to 132187\n",
            "Columns: 397 entries, directorio to p7510s7a1\n",
            "dtypes: float64(352), int64(12), object(33)\n",
            "memory usage: 400.4+ MB\n",
            "None\n"
          ]
        }
      ]
    },
    {
      "cell_type": "code",
      "source": [
        "# Selecciona las columnas relevantes que mencionaste en tu descripción\n",
        "columnas_relevantes = [\n",
        "    'directorio','año','orden','hogar','secuencia_p','segmento','area','mes','dpto',\n",
        "    'mpio','periodo','trimestre','p6016','p6020', 'p6030s1', 'p6030s2', 'p6030s3',\n",
        "    'p6040', 'p6050', 'p6090', 'p6100', 'p6125', 'p6160', 'p6170', 'p6210', 'p6210s1', 'comuna',\n",
        "    'dscy', 'p9460', 'p7422', 'dsi', 'p744', 'p7440', 'p7450', 'p7450s1', 'p7452', 'p7454', 'p7456',\n",
        "    'p7458', 'p7458s1', 'p7472', 'p7472s1'\n",
        "]\n"
      ],
      "metadata": {
        "id": "ksN-03IN_lHZ"
      },
      "execution_count": 34,
      "outputs": []
    },
    {
      "cell_type": "code",
      "source": [
        "nuevo_data = data[columnas_relevantes].copy()\n",
        "\n",
        "\n",
        "# Guarda el nuevo DataFrame en un archivo CSV\n",
        "nuevo_data.to_csv('conjunto_de_datos_reducido.csv', index=False)\n",
        "\n",
        "# Imprime la información del nuevo DataFrame\n",
        "print(\"Información del nuevo conjunto de datos:\")\n",
        "print(nuevo_data.info())"
      ],
      "metadata": {
        "colab": {
          "base_uri": "https://localhost:8080/"
        },
        "id": "WtkGzR50ISkQ",
        "outputId": "a539d35b-a20c-4708-b0b5-b1f65a29de8a"
      },
      "execution_count": 35,
      "outputs": [
        {
          "output_type": "stream",
          "name": "stdout",
          "text": [
            "Información del nuevo conjunto de datos:\n",
            "<class 'pandas.core.frame.DataFrame'>\n",
            "RangeIndex: 132188 entries, 0 to 132187\n",
            "Data columns (total 42 columns):\n",
            " #   Column       Non-Null Count   Dtype  \n",
            "---  ------       --------------   -----  \n",
            " 0   directorio   132188 non-null  float64\n",
            " 1   año          132188 non-null  float64\n",
            " 2   orden        132188 non-null  int64  \n",
            " 3   hogar        66976 non-null   float64\n",
            " 4   secuencia_p  132188 non-null  int64  \n",
            " 5   segmento     49093 non-null   float64\n",
            " 6   area         132188 non-null  int64  \n",
            " 7   mes          49313 non-null   float64\n",
            " 8   dpto         132188 non-null  int64  \n",
            " 9   mpio         132188 non-null  int64  \n",
            " 10  periodo      36430 non-null   float64\n",
            " 11  trimestre    24235 non-null   float64\n",
            " 12  p6016        66976 non-null   float64\n",
            " 13  p6020        132188 non-null  int64  \n",
            " 14  p6030s1      131859 non-null  float64\n",
            " 15  p6030s2      48939 non-null   float64\n",
            " 16  p6030s3      131858 non-null  float64\n",
            " 17  p6040        132188 non-null  int64  \n",
            " 18  p6050        132188 non-null  int64  \n",
            " 19  p6090        132188 non-null  int64  \n",
            " 20  p6100        124915 non-null  float64\n",
            " 21  p6125        132188 non-null  int64  \n",
            " 22  p6160        127767 non-null  float64\n",
            " 23  p6170        127767 non-null  float64\n",
            " 24  p6210        127767 non-null  float64\n",
            " 25  p6210s1      127767 non-null  float64\n",
            " 26  comuna       132188 non-null  int64  \n",
            " 27  dscy         6801 non-null    float64\n",
            " 28  p9460        6739 non-null    float64\n",
            " 29  p7422        6739 non-null    float64\n",
            " 30  dsi          6801 non-null    float64\n",
            " 31  p744         701 non-null     float64\n",
            " 32  p7440        22974 non-null   float64\n",
            " 33  p7450        22974 non-null   float64\n",
            " 34  p7450s1      584 non-null     object \n",
            " 35  p7452        22974 non-null   float64\n",
            " 36  p7454        19011 non-null   float64\n",
            " 37  p7456        2788 non-null    float64\n",
            " 38  p7458        23998 non-null   float64\n",
            " 39  p7458s1      6973 non-null    object \n",
            " 40  p7472        41985 non-null   float64\n",
            " 41  p7472s1      759 non-null     float64\n",
            "dtypes: float64(29), int64(11), object(2)\n",
            "memory usage: 42.4+ MB\n",
            "None\n"
          ]
        }
      ]
    }
  ]
}
